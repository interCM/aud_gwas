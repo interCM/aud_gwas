{
 "cells": [
  {
   "cell_type": "code",
   "execution_count": 1,
   "id": "3cf1345f",
   "metadata": {},
   "outputs": [],
   "source": [
    "import pandas as pd\n",
    "import os"
   ]
  },
  {
   "cell_type": "markdown",
   "id": "b2253443",
   "metadata": {},
   "source": [
    "# Get lists of samples with White and Black ancestries"
   ]
  },
  {
   "cell_type": "code",
   "execution_count": 5,
   "id": "46bcc968",
   "metadata": {},
   "outputs": [
    {
     "name": "stdout",
     "output_type": "stream",
     "text": [
      "502419 total samples\n",
      "472621 white samples\n",
      "8058 black samples\n"
     ]
    }
   ],
   "source": [
    "misc_dir = \"/cluster/projects/p33/users/alexeas/ukb/misc\"\n",
    "fname = os.path.join(misc_dir, \"ancestry.csv\")\n",
    "white_codes = [\"1\", \"1001\", \"1002\", \"1003\"]\n",
    "black_codes = [\"4\", \"4001\", \"4002\", \"4003\"]\n",
    "outf_white = os.path.join(misc_dir, \"id_white.txt\")\n",
    "outf_black = os.path.join(misc_dir, \"id_black.txt\")\n",
    "df = pd.read_csv(fname, dtype=str, usecols=[\"eid\", \"21000-0.0\"])\n",
    "\n",
    "i_white = df[\"21000-0.0\"].isin(white_codes)\n",
    "i_black = df[\"21000-0.0\"].isin(black_codes)\n",
    "\n",
    "print(f\"{len(df)} total samples\")\n",
    "print(f\"{i_white.sum()} white samples\")\n",
    "print(f\"{i_black.sum()} black samples\")\n",
    "\n",
    "df[\"IID\"] = df.eid\n",
    "\n",
    "df.loc[i_white,[\"eid\", \"IID\"]].to_csv(outf_white, header=False, index=False, sep='\\t')\n",
    "df.loc[i_black,[\"eid\", \"IID\"]].to_csv(outf_black, header=False, index=False, sep='\\t')"
   ]
  },
  {
   "cell_type": "markdown",
   "id": "d497ae2a",
   "metadata": {},
   "source": [
    "# Get variant lists with INFO > 0.8"
   ]
  },
  {
   "cell_type": "code",
   "execution_count": 3,
   "id": "5f08f673",
   "metadata": {},
   "outputs": [],
   "source": [
    "info_dir = \"/cluster/projects/p33/groups/imaging/ukbio/genetics/INFO\"\n",
    "misc_dir = \"/cluster/projects/p33/users/alexeas/ukb/misc\"\n",
    "info_threshold=0.8\n",
    "for i in range(1,23):\n",
    "    fname = os.path.join(info_dir, f\"ukb_mfi_chr{i}_v3.txt\")\n",
    "    df = pd.read_table(fname, usecols=[1,7], header=None, names=[\"SNP\", \"INFO\"])\n",
    "    snps = df.loc[df.INFO>info_threshold,\"SNP\"]\n",
    "    threshold_str = str(info_threshold).split('.')[-1]\n",
    "    out_fname = os.path.join(misc_dir, f\"snps_info{threshold_str}_chr{i}.txt\")\n",
    "    snps.to_csv(out_fname, header=None, index=None)"
   ]
  },
  {
   "cell_type": "code",
   "execution_count": null,
   "id": "8f72e9ce",
   "metadata": {},
   "outputs": [],
   "source": []
  }
 ],
 "metadata": {
  "kernelspec": {
   "display_name": "Python 3",
   "language": "python",
   "name": "python3"
  },
  "language_info": {
   "codemirror_mode": {
    "name": "ipython",
    "version": 3
   },
   "file_extension": ".py",
   "mimetype": "text/x-python",
   "name": "python",
   "nbconvert_exporter": "python",
   "pygments_lexer": "ipython3",
   "version": "3.8.8"
  }
 },
 "nbformat": 4,
 "nbformat_minor": 5
}
